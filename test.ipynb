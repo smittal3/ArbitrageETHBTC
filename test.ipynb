{
 "cells": [
  {
   "cell_type": "code",
   "execution_count": 13,
   "metadata": {},
   "outputs": [],
   "source": [
    "import alpaca_trade_api as alpaca\n",
    "import requests\n",
    "import asyncio\n",
    "import config"
   ]
  },
  {
   "cell_type": "code",
   "execution_count": 12,
   "metadata": {},
   "outputs": [],
   "source": [
    "ALPACA_BASE_URL = 'https://paper-api.alpaca.markets'\n",
    "DATA_URL = 'https://data.alpaca.markets'\n",
    "rest_api = alpaca.REST(config.API_KEY, config.SECRET_KEY, ALPACA_BASE_URL)"
   ]
  },
  {
   "cell_type": "code",
   "execution_count": 4,
   "metadata": {},
   "outputs": [],
   "source": [
    "waitTime = 3\n",
    "min_arb_percent = 0.3"
   ]
  },
  {
   "cell_type": "code",
   "execution_count": 5,
   "metadata": {},
   "outputs": [],
   "source": [
    "prices = {\n",
    "    'ETH/USD' : 0,\n",
    "    'BTC/USD' : 0,\n",
    "    'ETH/BTC' : 0\n",
    "}"
   ]
  },
  {
   "cell_type": "code",
   "execution_count": 8,
   "metadata": {},
   "outputs": [],
   "source": [
    "# Get quote data from alpaca\n",
    "async def get_quote(symbol: str):\n",
    "  try:\n",
    "    # make the request\n",
    "    quote = requests.get('{0}/v1beta2/crypto/latest/trades?symbols={1}'.format(DATA_URL, symbol), headers=HEADERS)\n",
    "    prices[symbol] = quote.json()['trades'][symbol]['p']\n",
    "    # Status code 200 means the request was successful\n",
    "    if quote.status_code != 200:\n",
    "        print(\"Undesirable response from Alpaca! {}\".format(quote.json()))\n",
    "        return False\n",
    "  except Exception as e:\n",
    "    print(\"There was an issue getting trade quote from Alpaca: {0}\".format(e))\n",
    "    return False"
   ]
  },
  {
   "cell_type": "code",
   "execution_count": 9,
   "metadata": {},
   "outputs": [],
   "source": [
    "# Place an order\n",
    "def post_alpaca_order(symbol, qty, side):\n",
    "  try:\n",
    "    order = requests.post(\n",
    "      '{0}/v2/orders'.format(ALPACA_BASE_URL), headers=HEADERS, json={\n",
    "      'symbol': symbol,\n",
    "      'qty': qty,\n",
    "      'side': side,\n",
    "      'type': 'market',\n",
    "      'time_in_force': 'gtc',\n",
    "    })\n",
    "    return order\n",
    "  except Exception as e:\n",
    "    print(\"There was an issue posting order to Alpaca: {0}\".format(e))\n",
    "    return False"
   ]
  },
  {
   "cell_type": "code",
   "execution_count": 10,
   "metadata": {},
   "outputs": [],
   "source": [
    "# Check for arbitrage conditions and execute trades\n",
    "async def check_arb():\n",
    "  ETH = prices['ETH/USD']\n",
    "  BTC = prices['BTC/USD']\n",
    "  ETHBTC = prices['ETH/BTC']\n",
    "  DIV = ETH / BTC\n",
    "  \n",
    "  spread = abs(DIV - ETHBTC)\n",
    "  BUY_ETH = 1000 / ETH\n",
    "  BUY_BTC = 1000 / BTC\n",
    "  BUY_ETHBTC = BUY_BTC / ETHBTC\n",
    "  SELL_ETHBTC = BUY_ETH / ETHBTC\n",
    "  \n",
    "  # Indicates \n",
    "  if DIV > ETHBTC * (1 + min_arb_percent/100):\n",
    "    order = post_alpaca_order()"
   ]
  },
  {
   "cell_type": "code",
   "execution_count": null,
   "metadata": {},
   "outputs": [],
   "source": [
    "  "
   ]
  },
  {
   "cell_type": "code",
   "execution_count": null,
   "metadata": {},
   "outputs": [],
   "source": []
  }
 ],
 "metadata": {
  "interpreter": {
   "hash": "6158504b044bea38db3689e63d2eee24c6e9472b1831defaffc44debe07ea967"
  },
  "kernelspec": {
   "display_name": "Python 3.8.12 ('trading_bot')",
   "language": "python",
   "name": "python3"
  },
  "language_info": {
   "codemirror_mode": {
    "name": "ipython",
    "version": 3
   },
   "file_extension": ".py",
   "mimetype": "text/x-python",
   "name": "python",
   "nbconvert_exporter": "python",
   "pygments_lexer": "ipython3",
   "version": "3.9.12"
  },
  "orig_nbformat": 4
 },
 "nbformat": 4,
 "nbformat_minor": 2
}
